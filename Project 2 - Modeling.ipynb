{
 "cells": [
  {
   "cell_type": "markdown",
   "id": "7d586f84",
   "metadata": {},
   "source": [
    "## Introduction\n",
    "\n",
    "This section explores the use of regression model on the dataset that had been cleaned and selected earlier. \n"
   ]
  },
  {
   "cell_type": "markdown",
   "id": "7c2d52f9",
   "metadata": {},
   "source": [
    "## Import Python modules"
   ]
  },
  {
   "cell_type": "code",
   "execution_count": 1,
   "id": "8896f775",
   "metadata": {},
   "outputs": [],
   "source": [
    "#import Python modules to be used\n",
    "import numpy as np\n",
    "import pandas as pd\n",
    "import matplotlib.pyplot as plt\n",
    "import seaborn as sns\n",
    "import re \n",
    "#import sklearn modules \n",
    "from sklearn import metrics\n",
    "from sklearn.model_selection import cross_val_score, train_test_split\n",
    "from sklearn.preprocessing import StandardScaler, PolynomialFeatures\n",
    "from sklearn.linear_model import LinearRegression, LassoCV, RidgeCV, Ridge, Lasso, ElasticNet \n",
    "from numbers import Number"
   ]
  },
  {
   "cell_type": "markdown",
   "id": "2146e848",
   "metadata": {},
   "source": [
    "## Import cleaned dataset"
   ]
  },
  {
   "cell_type": "code",
   "execution_count": 2,
   "id": "740347ee",
   "metadata": {
    "scrolled": false
   },
   "outputs": [
    {
     "data": {
      "text/html": [
       "<div>\n",
       "<style scoped>\n",
       "    .dataframe tbody tr th:only-of-type {\n",
       "        vertical-align: middle;\n",
       "    }\n",
       "\n",
       "    .dataframe tbody tr th {\n",
       "        vertical-align: top;\n",
       "    }\n",
       "\n",
       "    .dataframe thead th {\n",
       "        text-align: right;\n",
       "    }\n",
       "</style>\n",
       "<table border=\"1\" class=\"dataframe\">\n",
       "  <thead>\n",
       "    <tr style=\"text-align: right;\">\n",
       "      <th></th>\n",
       "      <th>house_quality</th>\n",
       "      <th>year_remodelled</th>\n",
       "      <th>basement_total_area</th>\n",
       "      <th>first_floor_area</th>\n",
       "      <th>above_ground_area</th>\n",
       "      <th>bathroom_above_ground_full_num</th>\n",
       "      <th>garage_finish_quality</th>\n",
       "      <th>garage_size_num_cars</th>\n",
       "      <th>sale_price</th>\n",
       "      <th>age_built</th>\n",
       "      <th>age_remodelled</th>\n",
       "      <th>more_than_2_above_bathrooms</th>\n",
       "      <th>is_good_kitchen_quality</th>\n",
       "      <th>is_good_exterior_build_quality</th>\n",
       "      <th>is_good_house_quality</th>\n",
       "      <th>foundation_type_PConc</th>\n",
       "      <th>comp_score</th>\n",
       "    </tr>\n",
       "  </thead>\n",
       "  <tbody>\n",
       "    <tr>\n",
       "      <th>0</th>\n",
       "      <td>6</td>\n",
       "      <td>2005</td>\n",
       "      <td>725.0</td>\n",
       "      <td>725</td>\n",
       "      <td>1479</td>\n",
       "      <td>2</td>\n",
       "      <td>2</td>\n",
       "      <td>2.0</td>\n",
       "      <td>130500</td>\n",
       "      <td>34</td>\n",
       "      <td>5</td>\n",
       "      <td>1</td>\n",
       "      <td>1</td>\n",
       "      <td>1</td>\n",
       "      <td>1</td>\n",
       "      <td>0</td>\n",
       "      <td>15.0</td>\n",
       "    </tr>\n",
       "    <tr>\n",
       "      <th>1</th>\n",
       "      <td>7</td>\n",
       "      <td>1997</td>\n",
       "      <td>913.0</td>\n",
       "      <td>913</td>\n",
       "      <td>2122</td>\n",
       "      <td>2</td>\n",
       "      <td>2</td>\n",
       "      <td>2.0</td>\n",
       "      <td>220000</td>\n",
       "      <td>13</td>\n",
       "      <td>12</td>\n",
       "      <td>1</td>\n",
       "      <td>1</td>\n",
       "      <td>1</td>\n",
       "      <td>1</td>\n",
       "      <td>1</td>\n",
       "      <td>14.0</td>\n",
       "    </tr>\n",
       "    <tr>\n",
       "      <th>2</th>\n",
       "      <td>5</td>\n",
       "      <td>2007</td>\n",
       "      <td>1057.0</td>\n",
       "      <td>1057</td>\n",
       "      <td>1057</td>\n",
       "      <td>1</td>\n",
       "      <td>1</td>\n",
       "      <td>1.0</td>\n",
       "      <td>109000</td>\n",
       "      <td>57</td>\n",
       "      <td>3</td>\n",
       "      <td>0</td>\n",
       "      <td>1</td>\n",
       "      <td>0</td>\n",
       "      <td>0</td>\n",
       "      <td>0</td>\n",
       "      <td>11.0</td>\n",
       "    </tr>\n",
       "    <tr>\n",
       "      <th>3</th>\n",
       "      <td>5</td>\n",
       "      <td>2007</td>\n",
       "      <td>384.0</td>\n",
       "      <td>744</td>\n",
       "      <td>1444</td>\n",
       "      <td>2</td>\n",
       "      <td>3</td>\n",
       "      <td>2.0</td>\n",
       "      <td>174000</td>\n",
       "      <td>4</td>\n",
       "      <td>3</td>\n",
       "      <td>1</td>\n",
       "      <td>0</td>\n",
       "      <td>0</td>\n",
       "      <td>0</td>\n",
       "      <td>1</td>\n",
       "      <td>12.0</td>\n",
       "    </tr>\n",
       "    <tr>\n",
       "      <th>4</th>\n",
       "      <td>6</td>\n",
       "      <td>1993</td>\n",
       "      <td>676.0</td>\n",
       "      <td>831</td>\n",
       "      <td>1445</td>\n",
       "      <td>2</td>\n",
       "      <td>1</td>\n",
       "      <td>2.0</td>\n",
       "      <td>138500</td>\n",
       "      <td>110</td>\n",
       "      <td>17</td>\n",
       "      <td>1</td>\n",
       "      <td>0</td>\n",
       "      <td>0</td>\n",
       "      <td>1</td>\n",
       "      <td>1</td>\n",
       "      <td>12.0</td>\n",
       "    </tr>\n",
       "  </tbody>\n",
       "</table>\n",
       "</div>"
      ],
      "text/plain": [
       "   house_quality  year_remodelled  basement_total_area  first_floor_area  \\\n",
       "0              6             2005                725.0               725   \n",
       "1              7             1997                913.0               913   \n",
       "2              5             2007               1057.0              1057   \n",
       "3              5             2007                384.0               744   \n",
       "4              6             1993                676.0               831   \n",
       "\n",
       "   above_ground_area  bathroom_above_ground_full_num  garage_finish_quality  \\\n",
       "0               1479                               2                      2   \n",
       "1               2122                               2                      2   \n",
       "2               1057                               1                      1   \n",
       "3               1444                               2                      3   \n",
       "4               1445                               2                      1   \n",
       "\n",
       "   garage_size_num_cars  sale_price  age_built  age_remodelled  \\\n",
       "0                   2.0      130500         34               5   \n",
       "1                   2.0      220000         13              12   \n",
       "2                   1.0      109000         57               3   \n",
       "3                   2.0      174000          4               3   \n",
       "4                   2.0      138500        110              17   \n",
       "\n",
       "   more_than_2_above_bathrooms  is_good_kitchen_quality  \\\n",
       "0                            1                        1   \n",
       "1                            1                        1   \n",
       "2                            0                        1   \n",
       "3                            1                        0   \n",
       "4                            1                        0   \n",
       "\n",
       "   is_good_exterior_build_quality  is_good_house_quality  \\\n",
       "0                               1                      1   \n",
       "1                               1                      1   \n",
       "2                               0                      0   \n",
       "3                               0                      0   \n",
       "4                               0                      1   \n",
       "\n",
       "   foundation_type_PConc  comp_score  \n",
       "0                      0        15.0  \n",
       "1                      1        14.0  \n",
       "2                      0        11.0  \n",
       "3                      1        12.0  \n",
       "4                      1        12.0  "
      ]
     },
     "execution_count": 2,
     "metadata": {},
     "output_type": "execute_result"
    }
   ],
   "source": [
    "#import training dataset and name as df\n",
    "df_selected = pd.read_csv('data/selected.csv')\n",
    "df_selected.head() #checking general appearance of dataset"
   ]
  },
  {
   "cell_type": "code",
   "execution_count": 3,
   "id": "04d5e9fe",
   "metadata": {
    "scrolled": true
   },
   "outputs": [
    {
     "data": {
      "text/plain": [
       "Index(['house_quality', 'year_remodelled', 'basement_total_area',\n",
       "       'first_floor_area', 'above_ground_area',\n",
       "       'bathroom_above_ground_full_num', 'garage_finish_quality',\n",
       "       'garage_size_num_cars', 'sale_price', 'age_built', 'age_remodelled',\n",
       "       'more_than_2_above_bathrooms', 'is_good_kitchen_quality',\n",
       "       'is_good_exterior_build_quality', 'is_good_house_quality',\n",
       "       'foundation_type_PConc', 'comp_score'],\n",
       "      dtype='object')"
      ]
     },
     "execution_count": 3,
     "metadata": {},
     "output_type": "execute_result"
    }
   ],
   "source": [
    "df_selected.columns"
   ]
  },
  {
   "cell_type": "markdown",
   "id": "135bd928",
   "metadata": {},
   "source": [
    "## The Null Model\n",
    "Using the mean sale_price"
   ]
  },
  {
   "cell_type": "code",
   "execution_count": 4,
   "id": "0c29371b",
   "metadata": {
    "scrolled": true
   },
   "outputs": [],
   "source": [
    "y_bar = df_selected[['sale_price']].mean() #171406.15539494064"
   ]
  },
  {
   "cell_type": "markdown",
   "id": "b9ebb055",
   "metadata": {},
   "source": [
    "## Model Prep: Create our features matrix (`X`) and target vector (`y`)"
   ]
  },
  {
   "cell_type": "code",
   "execution_count": 5,
   "id": "89602667",
   "metadata": {},
   "outputs": [],
   "source": [
    "features = [col for col in df_selected.columns if col != 'sale_price']\n",
    "X = df_selected[features]\n",
    "y = df_selected['sale_price']"
   ]
  },
  {
   "cell_type": "markdown",
   "id": "e77162c1",
   "metadata": {},
   "source": [
    "## Model Prep: Train/test split"
   ]
  },
  {
   "cell_type": "code",
   "execution_count": 6,
   "id": "954debfb",
   "metadata": {},
   "outputs": [],
   "source": [
    "X_train, X_test, y_train, y_test = train_test_split(X, y, random_state=42)"
   ]
  },
  {
   "cell_type": "code",
   "execution_count": 7,
   "id": "0402249d",
   "metadata": {},
   "outputs": [],
   "source": [
    "ss = StandardScaler()\n",
    "ss.fit(X_train)\n",
    "X_train = ss.transform(X_train)\n",
    "X_test = ss.transform(X_test)"
   ]
  },
  {
   "cell_type": "markdown",
   "id": "751de8c0",
   "metadata": {},
   "source": [
    "## Model Prep: Instantiate our models"
   ]
  },
  {
   "cell_type": "code",
   "execution_count": 8,
   "id": "fee32112",
   "metadata": {},
   "outputs": [],
   "source": [
    "lr = LinearRegression()\n",
    "lasso = LassoCV(n_alphas=200)\n",
    "ridge = RidgeCV(alphas=np.linspace(.1, 10, 100))"
   ]
  },
  {
   "cell_type": "markdown",
   "id": "2e918ad2",
   "metadata": {},
   "source": [
    "## Cross validation"
   ]
  },
  {
   "cell_type": "code",
   "execution_count": 9,
   "id": "8133e8d2",
   "metadata": {
    "scrolled": true
   },
   "outputs": [
    {
     "data": {
      "text/plain": [
       "0.7617706187072903"
      ]
     },
     "execution_count": 9,
     "metadata": {},
     "output_type": "execute_result"
    }
   ],
   "source": [
    "lr_scores = cross_val_score(lr, X_train, y_train, cv=5)\n",
    "lr_scores.mean()"
   ]
  },
  {
   "cell_type": "code",
   "execution_count": 10,
   "id": "a285ed05",
   "metadata": {},
   "outputs": [
    {
     "data": {
      "text/plain": [
       "0.7629096145606742"
      ]
     },
     "execution_count": 10,
     "metadata": {},
     "output_type": "execute_result"
    }
   ],
   "source": [
    "lasso_scores = cross_val_score(lasso, X_train, y_train, cv=5)\n",
    "lasso_scores.mean()\n",
    "#generate cross val score with best alpha fitted with data"
   ]
  },
  {
   "cell_type": "code",
   "execution_count": 11,
   "id": "8656e257",
   "metadata": {},
   "outputs": [
    {
     "data": {
      "text/plain": [
       "0.7625369629073792"
      ]
     },
     "execution_count": 11,
     "metadata": {},
     "output_type": "execute_result"
    }
   ],
   "source": [
    "ridge_scores = cross_val_score(ridge, X_train, y_train, cv=5)\n",
    "ridge_scores.mean()"
   ]
  },
  {
   "cell_type": "markdown",
   "id": "995ae90a",
   "metadata": {},
   "source": [
    "### Cross-validation results:\n",
    "* Linear: 0.7617706187072907\n",
    "* Lasso: 0.6694375474914178\n",
    "* Ridge: 0.762015659381021\n",
    "\n",
    "Ridge > Linear > Lasso, although the difference between Ridge and Linear is quite small (around 0.001)."
   ]
  },
  {
   "cell_type": "markdown",
   "id": "adc33bfd",
   "metadata": {},
   "source": [
    "## Model Fitting and Evaluation\n",
    "\n",
    "`Ridge Regression` seem to be doing the best, so we will fit the model to the training data, and evaluate the training and test scores below."
   ]
  },
  {
   "cell_type": "code",
   "execution_count": 17,
   "id": "957d8363",
   "metadata": {
    "scrolled": true
   },
   "outputs": [
    {
     "data": {
      "text/plain": [
       "RidgeCV(alphas=array([ 0.1,  0.2,  0.3,  0.4,  0.5,  0.6,  0.7,  0.8,  0.9,  1. ,  1.1,\n",
       "        1.2,  1.3,  1.4,  1.5,  1.6,  1.7,  1.8,  1.9,  2. ,  2.1,  2.2,\n",
       "        2.3,  2.4,  2.5,  2.6,  2.7,  2.8,  2.9,  3. ,  3.1,  3.2,  3.3,\n",
       "        3.4,  3.5,  3.6,  3.7,  3.8,  3.9,  4. ,  4.1,  4.2,  4.3,  4.4,\n",
       "        4.5,  4.6,  4.7,  4.8,  4.9,  5. ,  5.1,  5.2,  5.3,  5.4,  5.5,\n",
       "        5.6,  5.7,  5.8,  5.9,  6. ,  6.1,  6.2,  6.3,  6.4,  6.5,  6.6,\n",
       "        6.7,  6.8,  6.9,  7. ,  7.1,  7.2,  7.3,  7.4,  7.5,  7.6,  7.7,\n",
       "        7.8,  7.9,  8. ,  8.1,  8.2,  8.3,  8.4,  8.5,  8.6,  8.7,  8.8,\n",
       "        8.9,  9. ,  9.1,  9.2,  9.3,  9.4,  9.5,  9.6,  9.7,  9.8,  9.9,\n",
       "       10. ]))"
      ]
     },
     "execution_count": 17,
     "metadata": {},
     "output_type": "execute_result"
    }
   ],
   "source": [
    "ridge.fit(X_train, y_train)"
   ]
  },
  {
   "cell_type": "code",
   "execution_count": 24,
   "id": "1ec25f50",
   "metadata": {},
   "outputs": [
    {
     "data": {
      "text/plain": [
       "0.7764694806710707"
      ]
     },
     "execution_count": 24,
     "metadata": {},
     "output_type": "execute_result"
    }
   ],
   "source": [
    "#with training data\n",
    "ridge.score(X_train, y_train) #0.7764694806710707"
   ]
  },
  {
   "cell_type": "code",
   "execution_count": 25,
   "id": "3aa0b224",
   "metadata": {},
   "outputs": [
    {
     "data": {
      "text/plain": [
       "0.8396300588260664"
      ]
     },
     "execution_count": 25,
     "metadata": {},
     "output_type": "execute_result"
    }
   ],
   "source": [
    "#with validation data\n",
    "ridge.score(X_test, y_test) #0.8396300588260664"
   ]
  },
  {
   "cell_type": "code",
   "execution_count": 26,
   "id": "e95ad379",
   "metadata": {},
   "outputs": [
    {
     "data": {
      "text/plain": [
       "0.762015659381021"
      ]
     },
     "execution_count": 26,
     "metadata": {},
     "output_type": "execute_result"
    }
   ],
   "source": [
    "ridge_scores.mean() #0.762015659381021"
   ]
  },
  {
   "cell_type": "code",
   "execution_count": 27,
   "id": "c2292c15",
   "metadata": {},
   "outputs": [],
   "source": [
    "#predicted y\n",
    "pred = ridge.predict(X_test)"
   ]
  },
  {
   "cell_type": "code",
   "execution_count": 29,
   "id": "ebda618f",
   "metadata": {},
   "outputs": [
    {
     "data": {
      "text/plain": [
       "0.8396300588260664"
      ]
     },
     "execution_count": 29,
     "metadata": {},
     "output_type": "execute_result"
    }
   ],
   "source": [
    "metrics.r2_score(y_test, pred) #r2_score = 0.8396300588260664"
   ]
  },
  {
   "cell_type": "code",
   "execution_count": 33,
   "id": "4aa30236",
   "metadata": {},
   "outputs": [
    {
     "data": {
      "text/plain": [
       "24217.464970946785"
      ]
     },
     "execution_count": 33,
     "metadata": {},
     "output_type": "execute_result"
    }
   ],
   "source": [
    "#calculate RMSE for chosen model\n",
    "np.sqrt(metrics.mean_squared_error(y_test, pred)) #RMSE score = 24217.464970946785 (within acceptable range)"
   ]
  },
  {
   "cell_type": "code",
   "execution_count": 30,
   "id": "a0582874",
   "metadata": {
    "scrolled": true
   },
   "outputs": [
    {
     "data": {
      "text/plain": [
       "<AxesSubplot:>"
      ]
     },
     "execution_count": 30,
     "metadata": {},
     "output_type": "execute_result"
    },
    {
     "data": {
      "image/png": "[encoded data removed]",
      "text/plain": [
       "<Figure size 1080x504 with 1 Axes>"
      ]
     },
     "metadata": {
      "needs_background": "light"
     },
     "output_type": "display_data"
    }
   ],
   "source": [
    "#layman-friendy way to show impact of features on the price\n",
    "pd.Series(ridge.coef_, index=features).plot.bar(figsize=(15, 7))"
   ]
  },
  {
   "cell_type": "code",
   "execution_count": 85,
   "id": "24969b46",
   "metadata": {},
   "outputs": [
    {
     "data": {
      "text/html": [
       "<div>\n",
       "<style scoped>\n",
       "    .dataframe tbody tr th:only-of-type {\n",
       "        vertical-align: middle;\n",
       "    }\n",
       "\n",
       "    .dataframe tbody tr th {\n",
       "        vertical-align: top;\n",
       "    }\n",
       "\n",
       "    .dataframe thead th {\n",
       "        text-align: right;\n",
       "    }\n",
       "</style>\n",
       "<table border=\"1\" class=\"dataframe\">\n",
       "  <thead>\n",
       "    <tr style=\"text-align: right;\">\n",
       "      <th></th>\n",
       "      <th>variable</th>\n",
       "      <th>coef</th>\n",
       "    </tr>\n",
       "  </thead>\n",
       "  <tbody>\n",
       "    <tr>\n",
       "      <th>14</th>\n",
       "      <td>foundation_type_PConc</td>\n",
       "      <td>765.514049</td>\n",
       "    </tr>\n",
       "    <tr>\n",
       "      <th>15</th>\n",
       "      <td>comp_score</td>\n",
       "      <td>804.110280</td>\n",
       "    </tr>\n",
       "    <tr>\n",
       "      <th>13</th>\n",
       "      <td>is_good_house_quality</td>\n",
       "      <td>2114.805780</td>\n",
       "    </tr>\n",
       "    <tr>\n",
       "      <th>1</th>\n",
       "      <td>year_remodelled</td>\n",
       "      <td>2322.740059</td>\n",
       "    </tr>\n",
       "    <tr>\n",
       "      <th>9</th>\n",
       "      <td>age_remodelled</td>\n",
       "      <td>2735.858442</td>\n",
       "    </tr>\n",
       "    <tr>\n",
       "      <th>5</th>\n",
       "      <td>bathroom_above_ground_full_num</td>\n",
       "      <td>2845.892045</td>\n",
       "    </tr>\n",
       "    <tr>\n",
       "      <th>10</th>\n",
       "      <td>more_than_2_above_bathrooms</td>\n",
       "      <td>3383.580850</td>\n",
       "    </tr>\n",
       "    <tr>\n",
       "      <th>12</th>\n",
       "      <td>is_good_exterior_build_quality</td>\n",
       "      <td>3910.475063</td>\n",
       "    </tr>\n",
       "    <tr>\n",
       "      <th>2</th>\n",
       "      <td>basement_total_area</td>\n",
       "      <td>4278.697156</td>\n",
       "    </tr>\n",
       "    <tr>\n",
       "      <th>8</th>\n",
       "      <td>age_built</td>\n",
       "      <td>4631.413550</td>\n",
       "    </tr>\n",
       "    <tr>\n",
       "      <th>3</th>\n",
       "      <td>first_floor_area</td>\n",
       "      <td>4735.949482</td>\n",
       "    </tr>\n",
       "    <tr>\n",
       "      <th>6</th>\n",
       "      <td>garage_finish_quality</td>\n",
       "      <td>4976.059602</td>\n",
       "    </tr>\n",
       "    <tr>\n",
       "      <th>11</th>\n",
       "      <td>is_good_kitchen_quality</td>\n",
       "      <td>4981.967892</td>\n",
       "    </tr>\n",
       "    <tr>\n",
       "      <th>7</th>\n",
       "      <td>garage_size_num_cars</td>\n",
       "      <td>7387.757076</td>\n",
       "    </tr>\n",
       "    <tr>\n",
       "      <th>4</th>\n",
       "      <td>above_ground_area</td>\n",
       "      <td>14597.318433</td>\n",
       "    </tr>\n",
       "    <tr>\n",
       "      <th>0</th>\n",
       "      <td>house_quality</td>\n",
       "      <td>18359.825343</td>\n",
       "    </tr>\n",
       "  </tbody>\n",
       "</table>\n",
       "</div>"
      ],
      "text/plain": [
       "                          variable          coef\n",
       "14           foundation_type_PConc    765.514049\n",
       "15                      comp_score    804.110280\n",
       "13           is_good_house_quality   2114.805780\n",
       "1                  year_remodelled   2322.740059\n",
       "9                   age_remodelled   2735.858442\n",
       "5   bathroom_above_ground_full_num   2845.892045\n",
       "10     more_than_2_above_bathrooms   3383.580850\n",
       "12  is_good_exterior_build_quality   3910.475063\n",
       "2              basement_total_area   4278.697156\n",
       "8                        age_built   4631.413550\n",
       "3                 first_floor_area   4735.949482\n",
       "6            garage_finish_quality   4976.059602\n",
       "11         is_good_kitchen_quality   4981.967892\n",
       "7             garage_size_num_cars   7387.757076\n",
       "4                above_ground_area  14597.318433\n",
       "0                    house_quality  18359.825343"
      ]
     },
     "execution_count": 85,
     "metadata": {},
     "output_type": "execute_result"
    }
   ],
   "source": [
    "ridge_coefs = pd.DataFrame({'variable':X.columns,\n",
    "                            'coef':abs(ridge.coef_)})\n",
    "ridge_coefs.sort_values(by = 'coef')"
   ]
  },
  {
   "cell_type": "markdown",
   "id": "9ec8cafb",
   "metadata": {},
   "source": [
    "The top 5 features that impact the sale price are:\n",
    "1. house_quality\n",
    "2. above_ground_area\n",
    "3. garage_size_num_cars\n",
    "4. is_good_kitchen_quality\n",
    "5. garage_finish_quality"
   ]
  },
  {
   "cell_type": "markdown",
   "id": "e30e5dd4",
   "metadata": {},
   "source": [
    "## Optimising Ridge Regression alpha"
   ]
  },
  {
   "cell_type": "markdown",
   "id": "8ffa82f4",
   "metadata": {},
   "source": [
    "#### Model Prep: Scaling "
   ]
  },
  {
   "cell_type": "code",
   "execution_count": 53,
   "id": "9d73b004",
   "metadata": {},
   "outputs": [],
   "source": [
    "ss = StandardScaler()\n",
    "ss.fit(X_train)\n",
    "X_train = ss.transform(X_train)\n",
    "X_test = ss.transform(X_test)"
   ]
  },
  {
   "cell_type": "markdown",
   "id": "e2c2e446",
   "metadata": {},
   "source": [
    "#### Optimise regression alpha with RidgeCV "
   ]
  },
  {
   "cell_type": "code",
   "execution_count": 55,
   "id": "4f780913",
   "metadata": {},
   "outputs": [
    {
     "name": "stdout",
     "output_type": "stream",
     "text": [
      "54.158713780794734\n",
      "Wall time: 1.79 s\n"
     ]
    }
   ],
   "source": [
    "%%time\n",
    "ridge_alphas = np.logspace(0, 5, 200)\n",
    "\n",
    "optimal_ridge = RidgeCV(alphas=ridge_alphas, cv=10)\n",
    "optimal_ridge.fit(X_train, y_train)\n",
    "\n",
    "print (optimal_ridge.alpha_) #54.158713780794734"
   ]
  },
  {
   "cell_type": "markdown",
   "id": "d4631fc9",
   "metadata": {},
   "source": [
    "#### Checking performance with optimised alpha"
   ]
  },
  {
   "cell_type": "code",
   "execution_count": 64,
   "id": "97d75488",
   "metadata": {},
   "outputs": [
    {
     "name": "stdout",
     "output_type": "stream",
     "text": [
      "[0.67331395 0.79398536 0.8143975  0.81636539 0.71864741]\n",
      "0.7633419194869943\n"
     ]
    }
   ],
   "source": [
    "ridge = Ridge(alpha=optimal_ridge.alpha_)\n",
    "\n",
    "ridge_scores = cross_val_score(ridge, X_train, y_train, cv=5)\n",
    "\n",
    "print (ridge_scores)\n",
    "print (np.mean(ridge_scores)) #0.7633419194869943"
   ]
  },
  {
   "cell_type": "markdown",
   "id": "56011f48",
   "metadata": {},
   "source": [
    "Compared with the score for the unoptimised Ridge (0.762015659381021), the optimised Ridge produced a slightly better score of 0.7633419194869943."
   ]
  },
  {
   "cell_type": "markdown",
   "id": "b718c1c9",
   "metadata": {},
   "source": [
    "#### Checking performance with validation data"
   ]
  },
  {
   "cell_type": "code",
   "execution_count": 67,
   "id": "04b7399c",
   "metadata": {},
   "outputs": [
    {
     "data": {
      "text/plain": [
       "Ridge(alpha=54.158713780794734)"
      ]
     },
     "execution_count": 67,
     "metadata": {},
     "output_type": "execute_result"
    }
   ],
   "source": [
    "ridge.fit(X_train, y_train)"
   ]
  },
  {
   "cell_type": "code",
   "execution_count": 68,
   "id": "e496257c",
   "metadata": {},
   "outputs": [
    {
     "data": {
      "text/plain": [
       "0.8351824776577286"
      ]
     },
     "execution_count": 68,
     "metadata": {},
     "output_type": "execute_result"
    }
   ],
   "source": [
    "ridge.score(X_test, y_test) #0.8351824776577286 #poorer after optimising"
   ]
  },
  {
   "cell_type": "code",
   "execution_count": 69,
   "id": "5e3fb290",
   "metadata": {},
   "outputs": [
    {
     "data": {
      "text/plain": [
       "0.7633419194869943"
      ]
     },
     "execution_count": 69,
     "metadata": {},
     "output_type": "execute_result"
    }
   ],
   "source": [
    "ridge_scores.mean() #0.7633419194869943 #slightly better after optimising"
   ]
  },
  {
   "cell_type": "code",
   "execution_count": 70,
   "id": "53a83eea",
   "metadata": {},
   "outputs": [],
   "source": [
    "pred = ridge.predict(X_test)"
   ]
  },
  {
   "cell_type": "code",
   "execution_count": 71,
   "id": "241dc723",
   "metadata": {},
   "outputs": [
    {
     "data": {
      "text/plain": [
       "0.8351824776577286"
      ]
     },
     "execution_count": 71,
     "metadata": {},
     "output_type": "execute_result"
    }
   ],
   "source": [
    "metrics.r2_score(y_test, pred) #0.8351824776577286 #poorer after optimising"
   ]
  },
  {
   "cell_type": "code",
   "execution_count": 72,
   "id": "edddb6fc",
   "metadata": {},
   "outputs": [
    {
     "data": {
      "text/plain": [
       "24550.98301754246"
      ]
     },
     "execution_count": 72,
     "metadata": {},
     "output_type": "execute_result"
    }
   ],
   "source": [
    "#calculate RMSE\n",
    "np.sqrt(metrics.mean_squared_error(y_test, pred)) #24550.98301754246 #poorer after optimising"
   ]
  },
  {
   "cell_type": "markdown",
   "id": "84e2e4e4",
   "metadata": {},
   "source": [
    "Mean score improved slightly after optimising alpha, but r2_score and RMSE became worse. The model with the unoptimised alpha seems to give better performance."
   ]
  },
  {
   "cell_type": "markdown",
   "id": "471326f7",
   "metadata": {},
   "source": [
    "## Summary and conclusion"
   ]
  },
  {
   "cell_type": "markdown",
   "id": "7f7324df",
   "metadata": {},
   "source": [
    "* Based on the cross-validation results, Ridge Regression showed slightly better scores compared to Linear Regression and Lasso CV. We further fit the Ridge model with our training and test data, and obtained an R2 score of 0.8396 and RMSE of 24217.4649, which are both within acceptable range. To further tune our model, we tried to optimise the alpha parameter, but got slightly worse scores for R2 and RMSE. "
   ]
  },
  {
   "cell_type": "markdown",
   "id": "84a908a2",
   "metadata": {},
   "source": [
    "* From the regression coefficient, our top 5 features which affect house sale prices are: \n",
    "1. house_quality - better quality houses fetch higher prices\n",
    "2. above_ground_area - larger properties can expect higher prices\n",
    "3. garage_size_num_cars - garages that can hold more cars can fetch better prices\n",
    "4. is_good_kitchen_quality - presence of good quality kitchens can fetch better prices\n",
    "5. garage_finish_quality - good quality garages fetch higher prices"
   ]
  },
  {
   "cell_type": "markdown",
   "id": "22c90639",
   "metadata": {},
   "source": [
    "## Limitations and future work"
   ]
  },
  {
   "cell_type": "markdown",
   "id": "1d27e5b7",
   "metadata": {},
   "source": [
    "1. As we removed outlier property sales with higher sale prices, our model is likely not able to predict higher sale prices well. More data can be gathered on properties at higher sale prices ranges to improve our model.\n",
    "2. Macroeconomic conditions affect sale prices as a whole, as seen from our trend visualisation for year and month. However, this would not be captured in sales data, and would require additional data sources.\n",
    "3. An important factor being the location, has not been well-captured in our model. Our attempt to use a composite score has not had a high impact on the sale price (2nd lowest coeff of 804). Additional correlation with actual neighbourhood location can help us model this factor better. \n",
    "4. With more time, we can explore other combinations of composite scores and feature selection for our model"
   ]
  }
 ],
 "metadata": {
  "kernelspec": {
   "display_name": "Python 3 (ipykernel)",
   "language": "python",
   "name": "python3"
  },
  "language_info": {
   "codemirror_mode": {
    "name": "ipython",
    "version": 3
   },
   "file_extension": ".py",
   "mimetype": "text/x-python",
   "name": "python",
   "nbconvert_exporter": "python",
   "pygments_lexer": "ipython3",
   "version": "3.9.7"
  }
 },
 "nbformat": 4,
 "nbformat_minor": 5
}
